{
 "cells": [
  {
   "cell_type": "markdown",
   "metadata": {
    "deletable": true,
    "editable": true
   },
   "source": [
    "# Monday, 15/05/2017: Review questions\n",
    "Here some review questions and (very simple) exercises for the material that we covered in class. They should help you to identify topics that you should further reivew with the literature or the Internet.\n",
    "\n",
    "Please feel free to e-mail Joseph or myself for any questions you might have!"
   ]
  },
  {
   "cell_type": "markdown",
   "metadata": {
    "deletable": true,
    "editable": true
   },
   "source": [
    "**Please try to answer the following questions before executing any code. Do this only to verify your answers!**"
   ]
  },
  {
   "cell_type": "markdown",
   "metadata": {
    "deletable": true,
    "editable": true
   },
   "source": [
    "- What is the output of the following code:\n",
    "  ```\n",
    "  i = 1\n",
    "  while i <= 10:\n",
    "      j = 1\n",
    "      while j<= 10:\n",
    "          print(i * j, end=\" \")\n",
    "          j = j + 1\n",
    "      print()  # This just prints a newline    \n",
    "      i = i + 1    \n",
    "  ```"
   ]
  },
  {
   "cell_type": "markdown",
   "metadata": {
    "deletable": true,
    "editable": true
   },
   "source": [
    "- What is the output of the following code:\n",
    "  ```\n",
    "  i = 1\n",
    "  while i > 0:\n",
    "      print(i**2)\n",
    "      i = i + 1\n",
    "\n",
    "  ```\n",
    "  **Hint: If you want to run this code, do it preferably as a script! It might crush a notebook session.**"
   ]
  },
  {
   "cell_type": "markdown",
   "metadata": {
    "deletable": true,
    "editable": true
   },
   "source": [
    "- What is the output of the following code:\n",
    "  ```\n",
    "  day = \"Saturday\"\n",
    "  \n",
    "  if day == \"Saturday\":\n",
    "      print \"We go to the Rhine\"\n",
    "      print \"We will get some ice cream\"\n",
    "      \n",
    "  if day == \"Sunday\":\n",
    "      print \"We stay at home\"\n",
    "  print \"We meet Lucie and Mike in the afternoon\"    \n",
    "  ```"
   ]
  },
  {
   "cell_type": "markdown",
   "metadata": {
    "deletable": true,
    "editable": true
   },
   "source": [
    "- What is the output of the following code:\n",
    "  ```\n",
    "  a = 5\n",
    "  b = 10\n",
    "  if (a < b) or ((a < 0) and (b < 0)):\n",
    "      print(\"Yes, it’s true.\")\n",
    "  else:\n",
    "      print(\"No, it’s false.\")\n",
    "      \n",
    "  if ((a < b) or (a < 0)) and (b < 0):\n",
    "      print(\"Yes, it’s true.\")\n",
    "  else:\n",
    "      print(\"No, it’s false.\")    \n",
    "  ```"
   ]
  },
  {
   "cell_type": "markdown",
   "metadata": {
    "deletable": true,
    "editable": true
   },
   "source": [
    "- You get the following code which should print out the smallest of three integers $x$, $y$ and $z$:\n",
    "\n",
    "  ```\n",
    "  x = 15 \n",
    "  y = 5 \n",
    "  z = 11 \n",
    "\n",
    "  print(\"Your numbers: \", x, y, z) \n",
    "  if x < y: \n",
    "      if x < z: \n",
    "          print(\"x is smallest number\")\n",
    "      else: \n",
    "          print(\"z is smallest number\")\n",
    "  else: \n",
    "      print(\"y is smallest number\")\n",
    "  ```\n",
    "  Is the code correct for all possibile numbers $x$, $y$ and $z$? If not, then give a correct version of the code."
   ]
  },
  {
   "cell_type": "markdown",
   "metadata": {
    "deletable": true,
    "editable": true
   },
   "source": [
    "- What is the output of the following code:\n",
    "  ```\n",
    "  def f(x):\n",
    "      return x + 2, x * 2\n",
    "      \n",
    "  x, y = f(5)\n",
    "  print(x + y)\n",
    "  ```"
   ]
  },
  {
   "cell_type": "markdown",
   "metadata": {
    "deletable": true,
    "editable": true
   },
   "source": [
    "- What is the output of the following code:\n",
    "  ```\n",
    "  def calc_q1(x):\n",
    "      q = 4 * x + 1\n",
    "      return q\n",
    "      \n",
    "  calc_q1(5)\n",
    "  print(q)\n",
    "  ```"
   ]
  },
  {
   "cell_type": "markdown",
   "metadata": {
    "deletable": true,
    "editable": true
   },
   "source": [
    "- What is the output of the following code:\n",
    "  ```\n",
    "  def calc_q4(x):\n",
    "      q = 4 * x + 1\n",
    "\n",
    "  print(calc_q4(5))\n",
    "  ```"
   ]
  },
  {
   "cell_type": "markdown",
   "metadata": {
    "deletable": true,
    "editable": true
   },
   "source": [
    "- What is the output of the following code:\n",
    "  ```\n",
    "  def inc_by_two(x):\n",
    "      x = x + 2\n",
    "      return x\n",
    "      \n",
    "  x = 10\n",
    "  inc_by_two(x)\n",
    "  print(\"x = \", x)\n",
    "  ```"
   ]
  },
  {
   "cell_type": "markdown",
   "metadata": {
    "deletable": true,
    "editable": true
   },
   "source": [
    "- What is the output of the follwing code:\n",
    "  ```\n",
    "  def f1(x, y):\n",
    "      return (x + 1) / (y - 1)\n",
    "            \n",
    "  def f2(x, y=2):\n",
    "      return (x + 1) / (y - 1)\n",
    "      \n",
    "  print(f1(3, 3))\n",
    "  print(f2(3), f2(3, y=4))\n",
    "  ```"
   ]
  },
  {
   "cell_type": "markdown",
   "metadata": {
    "deletable": true,
    "editable": true
   },
   "source": [
    "- Write a function `convert_temp` which takes a temperature $T_f$ in Fahrenheit (float-number) as input. It should return the temperature in celsius $T_c$ and in Kelvin $T_K$. The conversions are given by:\n",
    "  - $T_c = \\frac{5}{9}(T_f-32)$\n",
    "  - $T_K = T_c + 273.15$"
   ]
  },
  {
   "cell_type": "markdown",
   "metadata": {
    "deletable": true,
    "editable": true
   },
   "source": [
    "- **You probably did the core parts of this exercise in class already. The task is to turn your existing code into a function.**\n",
    "\n",
    "  The square root $y=\\sqrt{x}$ of a positive number $x$ can be estimated iteratively with $y_0>0$ (an arbitrary positive number) and $y_{n+1}=\\frac 12\\left(y_n+\\frac{x}{y_n}\\right)$. The procedure can be implmented with a `while`-loop testing for the condition $|y_{n+1}-y_n|>\\epsilon$. $\\epsilon$ represents the accuracy of the final square-root estimate. You update $y_n$ and $y_{n+1}$ within the loop and consider the final $y_{n+1}$ as estimate for $\\sqrt{x}$.\n",
    "\n",
    "  Write a python-function `my_sqrt` to estimate the square root with that recipe. The function should accept as arguments the number from which to estimate the square root and the required accuracy $\\epsilon$. $\\epsilon$ should be an optional parameter with a default value of $\\epsilon=10^{-6}$.\n",
    "  - If the user provides an invalid input (a number smaller than zero), the function should print an error message and return `None`.\n",
    "  - If the user input is valid, the function should return the square root estimate.\n"
   ]
  },
  {
   "cell_type": "code",
   "execution_count": null,
   "metadata": {
    "collapsed": true,
    "deletable": true,
    "editable": true
   },
   "outputs": [],
   "source": []
  }
 ],
 "metadata": {
  "kernelspec": {
   "display_name": "Python [conda env:my-py3-env]",
   "language": "python",
   "name": "conda-env-my-py3-env-py"
  },
  "language_info": {
   "codemirror_mode": {
    "name": "ipython",
    "version": 3
   },
   "file_extension": ".py",
   "mimetype": "text/x-python",
   "name": "python",
   "nbconvert_exporter": "python",
   "pygments_lexer": "ipython3",
   "version": "3.5.2"
  }
 },
 "nbformat": 4,
 "nbformat_minor": 2
}
