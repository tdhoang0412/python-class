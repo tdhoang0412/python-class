{
 "cells": [
  {
   "cell_type": "markdown",
   "metadata": {
    "deletable": true,
    "editable": true
   },
   "source": [
    "# Functions in Python\n",
    "Functions help to avoid **code repitition** and to build libraries.\n",
    "\n",
    "The syntax of a Python function is:\n",
    "\n",
    "```\n",
    "def func(arguments):\n",
    "    \"\"\" The docstring appears in help messages\"\"\"\n",
    "    # execute function commands\n",
    "    \n",
    "    return value(s)\n",
    "```\n",
    "\n",
    "**Notes:**\n",
    "- Note the colon after the function definition!\n",
    "- The function code is within an idented block!\n",
    "- Get into the habbit to *always* write docstrings! I will explain more about it when we talk about modules.\n",
    "- A function can have an arbitrary amount of arguments and also *default arguments*.\n",
    "- A function can have an arbitrary amount of return values!\n",
    "- As usual for Python variables, function arguments  do not have information on the type!\n",
    "- All the parameters and variables that are defined in a function are local to a function, meaning that these variables cannot be *seen* by code outside of the function (functions have an own, local *namespace*). Note also that the scope of a variable within a function is from the point it is created (either in the parameter list or in the body via an assignment operation) to the end of the function.\n",
    "- A function that returns *no value* (a procedure) implicitely returns the special value **None**"
   ]
  },
  {
   "cell_type": "markdown",
   "metadata": {
    "deletable": true,
    "editable": true
   },
   "source": [
    "## Some simple examples"
   ]
  },
  {
   "cell_type": "code",
   "execution_count": null,
   "metadata": {
    "collapsed": false,
    "deletable": true,
    "editable": true
   },
   "outputs": [],
   "source": [
    "import numpy\n",
    "\n",
    "# a classical mathematical function\n",
    "def gauss(x):\n",
    "    \"\"\"\n",
    "    Calculates the value of a Gauss function with mu = 0 and sigma = 1.0\n",
    "    \n",
    "    input: A number number x (float or int) at which to evaluate\n",
    "           the function\n",
    "    return: The calculated gauss value at x \n",
    "    \"\"\"\n",
    "    \n",
    "    return (1.0 / numpy.sqrt(2.0 * numpy.pi)) * numpy.exp(-x**2 / 2.0)\n",
    "\n",
    "x = 1.0\n",
    "print(numpy.tan(x), gauss(x))"
   ]
  },
  {
   "cell_type": "code",
   "execution_count": null,
   "metadata": {
    "collapsed": false,
    "deletable": true,
    "editable": true
   },
   "outputs": [],
   "source": [
    "import numpy\n",
    "\n",
    "# a fucntion with default arguments:\n",
    "def gauss_mu_sigma(x, mu=0.0, sigma=1.0):\n",
    "    \"\"\" Calculates the value of a Gauss at an input\n",
    "        value x\n",
    "        \n",
    "        input(s):\n",
    "        - The value at which to evaluate the Gauss\n",
    "          (required argument)\n",
    "        - Tne mean mu of the distribution\n",
    "          (optional argument)\n",
    "        - The width sigma of the distribution\n",
    "          (optional argument)\n",
    "          \n",
    "        return:\n",
    "        - The calculated gauss function value\n",
    "    \"\"\"\n",
    "    factor = (1.0 / numpy.sqrt(2.0 * sigma * numpy.pi))\n",
    "    expon = numpy.exp(-(x - mu)**2 / (2.0 * sigma**2))\n",
    "    \n",
    "    return factor * expon\n",
    "\n",
    "# implicit mu = 0.0, sigma = 1.0\n",
    "print(gauss_mu_sigma(1.0))\n",
    "# explicit mu and sigma\n",
    "print(gauss_mu_sigma(1.0, mu = 1.0, sigma = 2.0))\n",
    "# implicit sigma = 1.0\n",
    "print(gauss_mu_sigma(1.0, mu = 1.0))\n",
    "# implicit mu = 0.0\n",
    "print(gauss_mu_sigma(1.0, sigma = 2.0))"
   ]
  },
  {
   "cell_type": "code",
   "execution_count": null,
   "metadata": {
    "collapsed": false,
    "deletable": true,
    "editable": true
   },
   "outputs": [],
   "source": [
    "import numpy\n",
    "\n",
    "# a function with two input and two output values\n",
    "def xy_to_polar(x, y):\n",
    "    \"\"\" Here is the docstring for xy_polar \"\"\"\n",
    "    # transform two-dimensional cartesian coordinates\n",
    "    r = numpy.sqrt(x**2 + y**2)\n",
    "    theta = numpy.arctan2(y, x)\n",
    "    \n",
    "    return r, theta\n",
    "\n",
    "radius, angle = xy_to_polar(1.0, 1.0)\n",
    "\n",
    "# note that the angle is given in radians!\n",
    "print(radius, angle)"
   ]
  },
  {
   "cell_type": "code",
   "execution_count": null,
   "metadata": {
    "collapsed": false,
    "deletable": true,
    "editable": true
   },
   "outputs": [],
   "source": [
    "import colorama # module to enable coloured output in print statements\n",
    "\n",
    "# a function with 'no' return value\n",
    "def print_error(str):\n",
    "    \"\"\" Docstring for function print_error \"\"\"\n",
    "    print(colorama.Fore.RED + \"Error: \" + str + colorama.Style.RESET_ALL)\n",
    "\n",
    "    # The following explicit return None can be omitted.\n",
    "    return None\n",
    "\n",
    "print_error(\"File not found!\")"
   ]
  },
  {
   "cell_type": "markdown",
   "metadata": {
    "deletable": true,
    "editable": true
   },
   "source": [
    "## printing vs. returning function results\n",
    "Many students have difficulties to understand the difference between *printing the result of a function* and *returning the result of a function*. The confusion arises because, in some sitouations, they behave the same way"
   ]
  },
  {
   "cell_type": "code",
   "execution_count": null,
   "metadata": {
    "collapsed": false,
    "deletable": true,
    "editable": true
   },
   "outputs": [],
   "source": [
    "def p(x):    # p(x) prints its result 'and' returns None!\n",
    "    print(2 * x)\n",
    "    \n",
    "def r(x):    # r(x) returns its result!\n",
    "    return 2 * x\n",
    "\n",
    "# When interactively calling the two functions, they both seem to\n",
    "# behave the same way:\n",
    "p(10)\n",
    "r(10)\n",
    "\n",
    "# The results are however different, when 'assiging' the functions\n",
    "# results to variables:\n",
    "p_result = p(10)\n",
    "r_result = r(10)\n",
    "\n",
    "print(p_result, r_result)\n",
    "\n",
    "# Note that you need to 'return' the result of a function if you\n",
    "# want to use it later (assign it to a variable)! If in doubt, then\n",
    "# return the result!"
   ]
  },
  {
   "cell_type": "markdown",
   "metadata": {
    "collapsed": false,
    "deletable": true,
    "editable": true
   },
   "source": [
    "## Exercises:\n",
    "- Try to answer the following question without executing the codes:\n",
    "  - What is the output of the ```print```-statements in the follwing code:\n",
    "    ```\n",
    "    def triple(x):\n",
    "        x = x * 3\n",
    "        print(x)        \n",
    "        \n",
    "    x = 5\n",
    "    print(triple(x))\n",
    "    ```\n",
    "    What did the programmer of the function probably intend to do?\n",
    "  - What is the output of the following code:\n",
    "    ```\n",
    "    a = print(5)\n",
    "    print(a)\n",
    "    ```    "
   ]
  },
  {
   "cell_type": "code",
   "execution_count": null,
   "metadata": {
    "collapsed": true,
    "deletable": true,
    "editable": true
   },
   "outputs": [],
   "source": [
    "# you can try them here now!"
   ]
  },
  {
   "cell_type": "markdown",
   "metadata": {
    "deletable": true,
    "editable": true
   },
   "source": [
    "- Write the inverse function to ```xy_to_polar```. Its name should be ```polar_to_xy``` and it should accept polar coordinates $(r, \\theta)$ of a point in the two-dimensional plane.\n",
    "The function should return the corresponding $x$ and $y$ coordinates.\n",
    "\n",
    "  Try the function call ```polar_to_xy(*xy_to_polar(1.0, 1.5))``` and explain what it does.\n",
    "   \n",
    "  **Hint:** $x = r \\cos(\\theta)$ and $y = r \\sin(\\theta)$. Note that the angle $\\theta$ has to be provided in radians!"
   ]
  },
  {
   "cell_type": "code",
   "execution_count": null,
   "metadata": {
    "collapsed": true,
    "deletable": true,
    "editable": true
   },
   "outputs": [],
   "source": [
    "# your solution here"
   ]
  }
 ],
 "metadata": {
  "kernelspec": {
   "display_name": "Python [conda env:my-py3-env]",
   "language": "python",
   "name": "conda-env-my-py3-env-py"
  },
  "language_info": {
   "codemirror_mode": {
    "name": "ipython",
    "version": 3
   },
   "file_extension": ".py",
   "mimetype": "text/x-python",
   "name": "python",
   "nbconvert_exporter": "python",
   "pygments_lexer": "ipython3",
   "version": "3.5.2"
  }
 },
 "nbformat": 4,
 "nbformat_minor": 0
}
