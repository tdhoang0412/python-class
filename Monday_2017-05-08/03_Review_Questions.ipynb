{
 "cells": [
  {
   "cell_type": "markdown",
   "metadata": {
    "deletable": true,
    "editable": true
   },
   "source": [
    "# Monday, 08/05/2017: Review questions\n",
    "As we could not cover in class all material that is necessary for the Homework and Project assignments, I give you here some review questions for the material covered.\n",
    "\n",
    "Please feel free to e-mail Joseph or myself for any questions you might have!"
   ]
  },
  {
   "cell_type": "markdown",
   "metadata": {
    "deletable": true,
    "editable": true
   },
   "source": [
    "**Please try to answer the following questions before executing any code. Do this only to verify your answers! If you are uncertain, then consult the Python help or the Internet.**"
   ]
  },
  {
   "cell_type": "markdown",
   "metadata": {
    "deletable": true,
    "editable": true
   },
   "source": [
    "- Suppose the variable `x` has the value 5 and `y` has the value 10. After executing these statements:\n",
    "\n",
    "  ```\n",
    "  x = y\n",
    "  y = x\n",
    "\n",
    "  ```\n",
    "\n",
    "  what will the values of x and y be, respectively?"
   ]
  },
  {
   "cell_type": "markdown",
   "metadata": {
    "deletable": true,
    "editable": true
   },
   "source": [
    "- - True or False: `x ** 2` yields the identical result that is produced by `x * x` for all\n",
    "integer and float values of x.\n",
    "  - True or False: `x ** 2.0` yields the identical result that is produced by `x * x` for all\n",
    "integer and float values of x."
   ]
  },
  {
   "cell_type": "markdown",
   "metadata": {
    "deletable": true,
    "editable": true
   },
   "source": [
    "- What does Python print as a result of this statement?\n",
    "  ```\n",
    "  print(5 + 6 % 7)\n",
    "  ```"
   ]
  },
  {
   "cell_type": "markdown",
   "metadata": {
    "deletable": true,
    "editable": true
   },
   "source": [
    "- What is the output from the print() statement in the following code?\n",
    "  ```\n",
    "  x = 3 % 4 + 1\n",
    "  y = 4 % 3 + 1\n",
    "  x, y = y, x\n",
    "  print(x, y)\n",
    "  ```"
   ]
  },
  {
   "cell_type": "markdown",
   "metadata": {
    "deletable": true,
    "editable": true
   },
   "source": [
    "- What is the output produced by the following code?\n",
    "  ```\n",
    "  x = 3\n",
    "  y = 4\n",
    "  print(\"x\", \"y\", x + y)\n",
    "  ```"
   ]
  },
  {
   "cell_type": "markdown",
   "metadata": {
    "deletable": true,
    "editable": true
   },
   "source": [
    "- For each of the following, determine the value to which the expression evaluates. (Your answer\n",
    "should distinguish between floats and ints by either the inclusion or exclusion of a decimal\n",
    "point.)\n",
    "  - `5.5 - 11 / 2`\n",
    "  - `5.5 - 11 // 2`\n",
    "  - `10 % 7`\n",
    "  - `7 % 10`\n",
    "  - `3 + 2 * 2`\n",
    "  - `16 / 4 / 2`\n",
    "  "
   ]
  },
  {
   "cell_type": "markdown",
   "metadata": {
    "deletable": true,
    "editable": true
   },
   "source": [
    "- - True or False: In general, `x / y * z` is equal to `x / (y * z)`.\n",
    "  - True or False: In general, `x / y ** z` is equal to `x / (y ** z)`.\n",
    "  - True or False: In general, `w + x * y + z` is equal to `(w + x) * (y + z)`.\n",
    "  - True or False: In general, `w % x + y % z` is equal to `(w % x) + (y % z)`.\n",
    "  - True or False: If both `m` and `n` are ints, then `m / n` and `m // n` both evaluate to\n",
    "ints."
   ]
  },
  {
   "cell_type": "markdown",
   "metadata": {
    "deletable": true,
    "editable": true
   },
   "source": [
    "- Obtain help on the function `divmod`. Which values do `x` and `y` contain after:\n",
    "  ```\n",
    "  x, y = divmod(13, 7)\n",
    "  ```"
   ]
  },
  {
   "cell_type": "markdown",
   "metadata": {
    "deletable": true,
    "editable": true
   },
   "source": [
    "- Assume the int variable `ss` represents a time in terms of seconds. Which of the following four possibilities is an appropriate\n",
    "statement to calculate the number of complete minutes in this time (and store the result as an\n",
    "int in the variable mm)?\n",
    "  1. `mm = ss // 60`\n",
    "  2. `mm = ss / 60`\n",
    "  3. `mm = ss % 60`\n",
    "  4. `mm = ss * 60`"
   ]
  },
  {
   "cell_type": "markdown",
   "metadata": {
    "deletable": true,
    "editable": true
   },
   "source": [
    "- What ist he value of the following boolean expressions:\n",
    "  ```\n",
    "  a = -10\n",
    "  b = 5\n",
    "  ```\n",
    "  - `a < b or a < 0 and b < 0`\n",
    "  - `(a < b or a < 0) and b < 0`"
   ]
  },
  {
   "cell_type": "markdown",
   "metadata": {
    "deletable": true,
    "editable": true
   },
   "source": [
    "- What is the value of x after the following code executes?\n",
    "  ```\n",
    "  x = (2 * 4 - 8 == 0)\n",
    "  ```"
   ]
  },
  {
   "cell_type": "markdown",
   "metadata": {
    "deletable": true,
    "editable": true
   },
   "source": [
    "- To what value is c set by the following code?\n",
    "  ```\n",
    "  a = -3\n",
    "  b = 5\n",
    "  c = (a <= (b - 8))\n",
    "  ```"
   ]
  },
  {
   "cell_type": "markdown",
   "metadata": {
    "deletable": true,
    "editable": true
   },
   "source": [
    "** Here some simple, small program exercises **"
   ]
  },
  {
   "cell_type": "markdown",
   "metadata": {
    "deletable": true,
    "editable": true
   },
   "source": [
    "- Give Python-code to calculate the sine of $21^{\\circ}$\n",
    "\n",
    "  **Hint: Consult the help to obtain information in which units the sine-function expects its argument!**"
   ]
  },
  {
   "cell_type": "markdown",
   "metadata": {
    "deletable": true,
    "editable": true
   },
   "source": [
    "- Write a program that calculates the average score on an exam. Assume we have a small\n",
    "class of only three students. Assign each student’s score to variables called student1,\n",
    "student2, and student3 and then use these variables to find the average score. Assign\n",
    "the average to a variable called average. Print the student scores and the average score.\n",
    "The following demonstrates the program output when the students have been assigned scores\n",
    "of 80.0, 90.0, and 66.5:\n",
    "\n",
    "```\n",
    "Student scores:\n",
    "80.0\n",
    "90.0\n",
    "66.5\n",
    "Average: 78.83333333333333\n",
    "```"
   ]
  },
  {
   "cell_type": "markdown",
   "metadata": {
    "deletable": true,
    "editable": true
   },
   "source": [
    "- Imagine that you teach three classes. These classes have 32, 45, and 51 students. You want\n",
    "to divide the students in these classes into groups with the same number of students in each\n",
    "group but you recognize that there may be some “left over” students. Assume that you would\n",
    "like there to be 5 groups in the first class (of 32 students), 7 groups in the second class (of\n",
    "45 students), and 6 groups in the third class (of 51 students). Write a program that uses the\n",
    "divmod() function to calculate the number of students in each group (where each group\n",
    "has the same number of students). Print this number for each class and also print the number\n",
    "of students that will be “leftover” (i.e., the number of students short of a full group). Use\n",
    "simultaneous assignment to assign the number in each group and the “leftover” to variables.\n",
    "The following demonstrates the program’s output:\n",
    "\n",
    "```\n",
    "Number of students in each group:\n",
    "Class 1: 6\n",
    "Class 2: 6\n",
    "Class 3: 8\n",
    "Number of students leftover:\n",
    "Class 1: 2\n",
    "Class 2: 3\n",
    "Class 3: 3\n",
    "```"
   ]
  },
  {
   "cell_type": "markdown",
   "metadata": {
    "collapsed": true,
    "deletable": true,
    "editable": true
   },
   "source": [
    "Exercise 1"
   ]
  },
  {
   "cell_type": "code",
   "execution_count": 3,
   "metadata": {
    "collapsed": false
   },
   "outputs": [
    {
     "name": "stdout",
     "output_type": "stream",
     "text": [
      "0.358367949545\n"
     ]
    }
   ],
   "source": [
    "import numpy as np\n",
    "print(np.sin(np.deg2rad(21)))"
   ]
  },
  {
   "cell_type": "markdown",
   "metadata": {},
   "source": [
    "Exercise 2"
   ]
  },
  {
   "cell_type": "code",
   "execution_count": 12,
   "metadata": {
    "collapsed": false
   },
   "outputs": [
    {
     "name": "stdout",
     "output_type": "stream",
     "text": [
      "Student scores:\n",
      "80.0\n",
      "90.0\n",
      "66.5\n",
      "Average: 78.833333\n"
     ]
    }
   ],
   "source": [
    "import numpy as np\n",
    "stu1 = 80.0\n",
    "stu2 = 90.0\n",
    "stu3 = 66.5\n",
    "ave = (stu1 + stu2 + stu3)/3\n",
    "print(\"Student scores:\")\n",
    "print(stu1)\n",
    "print(stu2)\n",
    "print(stu3)\n",
    "print(\"Average: %f\" %ave)"
   ]
  },
  {
   "cell_type": "markdown",
   "metadata": {},
   "source": [
    "Exercise 3"
   ]
  },
  {
   "cell_type": "code",
   "execution_count": 35,
   "metadata": {
    "collapsed": true
   },
   "outputs": [],
   "source": [
    "n1, lef1 = divmod(32,5)\n",
    "n2, lef2 = divmod(45,7)\n",
    "n3, lef3 = divmod(51,6)\n",
    "n = [n1,n2,n3]\n",
    "lef = [lef1,lef2,lef3]"
   ]
  },
  {
   "cell_type": "code",
   "execution_count": 42,
   "metadata": {
    "collapsed": false
   },
   "outputs": [
    {
     "name": "stdout",
     "output_type": "stream",
     "text": [
      "Number of students in each group:\n",
      "Class 1: 6\n",
      "Class 2: 6\n",
      "Class 3: 8\n",
      "Number of students leftover:\n",
      "Class 1: 2\n",
      "Class 2: 3\n",
      "Class 3: 3\n"
     ]
    }
   ],
   "source": [
    "print(\"Number of students in each group:\")\n",
    "for i in range(0,3):\n",
    "    print('Class %d: %d' %(i+1,n[i]))\n",
    "print(\"Number of students leftover:\")\n",
    "for i in range(0,3):\n",
    "    print('Class %d: %d' %(i+1,lef[i]))"
   ]
  },
  {
   "cell_type": "code",
   "execution_count": null,
   "metadata": {
    "collapsed": true
   },
   "outputs": [],
   "source": []
  }
 ],
 "metadata": {
  "kernelspec": {
   "display_name": "Python 3",
   "language": "python",
   "name": "python3"
  },
  "language_info": {
   "codemirror_mode": {
    "name": "ipython",
    "version": 3
   },
   "file_extension": ".py",
   "mimetype": "text/x-python",
   "name": "python",
   "nbconvert_exporter": "python",
   "pygments_lexer": "ipython3",
   "version": "3.6.0"
  }
 },
 "nbformat": 4,
 "nbformat_minor": 2
}
